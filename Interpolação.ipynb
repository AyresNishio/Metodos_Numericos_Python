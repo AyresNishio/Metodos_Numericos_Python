{
  "nbformat": 4,
  "nbformat_minor": 0,
  "metadata": {
    "colab": {
      "name": "Untitled0.ipynb",
      "provenance": [],
      "authorship_tag": "ABX9TyPWXQ5/1szqLGSp+cVegg6A",
      "include_colab_link": true
    },
    "kernelspec": {
      "name": "python3",
      "display_name": "Python 3"
    },
    "language_info": {
      "name": "python"
    }
  },
  "cells": [
    {
      "cell_type": "markdown",
      "metadata": {
        "id": "view-in-github",
        "colab_type": "text"
      },
      "source": [
        "<a href=\"https://colab.research.google.com/github/AyresNishio/Metodos_Numericos_Python/blob/master/Interpola%C3%A7%C3%A3o.ipynb\" target=\"_parent\"><img src=\"https://colab.research.google.com/assets/colab-badge.svg\" alt=\"Open In Colab\"/></a>"
      ]
    },
    {
      "cell_type": "code",
      "execution_count": 1,
      "metadata": {
        "id": "VMyUum83DXTc"
      },
      "outputs": [],
      "source": [
        "import numpy as np"
      ]
    },
    {
      "cell_type": "code",
      "source": [
        "\n",
        "#Exemplo 6.1, 6.2, 6.3\n",
        "x = np.array([1.5, 3.5, 7. ,11.5, 14]) \n",
        "y = np.array([3,6,2.5,9.5,7.4])\n",
        "x_interpol = 10\n"
      ],
      "metadata": {
        "id": "MXLtAMNHEGYy"
      },
      "execution_count": 2,
      "outputs": []
    },
    {
      "cell_type": "markdown",
      "source": [
        "5 Pontos fornecidos ▶\n",
        "Um único polinômio de grau 4 passa pelos pontos"
      ],
      "metadata": {
        "id": "Iij8UxQkyzuJ"
      }
    },
    {
      "cell_type": "markdown",
      "source": [
        "#Método de Vandermonde"
      ],
      "metadata": {
        "id": "N2F0vNi5IDZ5"
      }
    },
    {
      "cell_type": "code",
      "source": [
        "def vandermonde(x,y):\n",
        "    n_pontos = len(x)\n",
        "    A=np.zeros((n_pontos,n_pontos),np.float64)\n",
        "    \n",
        "    for i in range(n_pontos):\n",
        "        for j in range(n_pontos):\n",
        "            A[i,j] = x[i]**j\n",
        "\n",
        "    #x=A\\y\n",
        "    coef = np.linalg.solve(A,y)\n",
        "    \n",
        "    return coef"
      ],
      "metadata": {
        "id": "4frCWIZgDcpL"
      },
      "execution_count": 3,
      "outputs": []
    },
    {
      "cell_type": "code",
      "source": [
        "#Exemplo 6.1, 6.2, 6.3\n",
        "alfa = vandermonde(x,y) \n",
        "print(alfa)   "
      ],
      "metadata": {
        "colab": {
          "base_uri": "https://localhost:8080/"
        },
        "id": "1dfMPQoDEhxA",
        "outputId": "27f45c59-7360-45fd-b88f-377686ae58a2"
      },
      "execution_count": 4,
      "outputs": [
        {
          "output_type": "stream",
          "name": "stdout",
          "text": [
            "[-9.22820303e+00  1.25004187e+01 -3.38564928e+00  3.41378932e-01\n",
            " -1.12331890e-02]\n"
          ]
        }
      ]
    },
    {
      "cell_type": "markdown",
      "source": [
        "#Método de Lagrange"
      ],
      "metadata": {
        "id": "ksQvdxuFIJLg"
      }
    },
    {
      "cell_type": "code",
      "source": [
        "def lagrange(x,y,x_interpol):\n",
        "    \n",
        "    n_pontos=len(x)\n",
        "    L = np.zeros(n_pontos) \n",
        "    for i in range(n_pontos):\n",
        "        L[i] = 1\n",
        "        for j in range(n_pontos):\n",
        "            if (j != i):\n",
        "                L[i]=L[i]*(x_interpol-x[j])/(x[i]-x[j])\n",
        "    \n",
        "    #valor interpolado\n",
        "    y_interpol=0\n",
        "    for i in range(n_pontos):\n",
        "        y_interpol=y_interpol+y[i]*L[i]\n",
        "    \n",
        "    \n",
        "\n",
        "    return y_interpol"
      ],
      "metadata": {
        "id": "PVI4dv0GEmn_"
      },
      "execution_count": 6,
      "outputs": []
    },
    {
      "cell_type": "code",
      "source": [
        "lagrange(x,y,8)"
      ],
      "metadata": {
        "id": "UTrEBy_jrP0d",
        "outputId": "a4aa8a23-61d1-40b1-a6c8-8e07daa3ee70",
        "colab": {
          "base_uri": "https://localhost:8080/"
        }
      },
      "execution_count": 7,
      "outputs": [
        {
          "output_type": "execute_result",
          "data": {
            "text/plain": [
              "2.8684636363636367"
            ]
          },
          "metadata": {},
          "execution_count": 7
        }
      ]
    },
    {
      "cell_type": "code",
      "source": [
        "lagrange(x,y,10)"
      ],
      "metadata": {
        "id": "PbxcuYbJrmub",
        "outputId": "fcfe9a23-243b-4434-cca7-7f459a2ba564",
        "colab": {
          "base_uri": "https://localhost:8080/"
        }
      },
      "execution_count": 8,
      "outputs": [
        {
          "output_type": "execute_result",
          "data": {
            "text/plain": [
              "6.258097835497834"
            ]
          },
          "metadata": {},
          "execution_count": 8
        }
      ]
    },
    {
      "cell_type": "markdown",
      "source": [
        "##Método de Newton (Interpolação)"
      ],
      "metadata": {
        "id": "cW09i6bYgl6Y"
      }
    },
    {
      "cell_type": "code",
      "source": [
        "def newton_interpol(x,y,x_interpol):\n",
        "    n = len(x)\n",
        "    Dif_Div =  np.zeros((n,n))\n",
        "\n",
        "    #Construção da Tabela de Diferenças Divididas\n",
        "    #Ordem  1 (Primeira Coluna)\n",
        "    for i in range(n):\n",
        "        Dif_Div[i,0]=y[i]\n",
        "    #Ordem >1\n",
        "    for j in range(1,n):\n",
        "        for i in range(n-j):\n",
        "            Dif_Div[i,j] = (Dif_Div[i+1,j-1]-Dif_Div[i,j-1])/(x[j+i]-x[i])\n",
        "\n",
        "    print('Tabela de Diferenças divididas do método de Newton')\n",
        "    print(Dif_Div)\n",
        "    \n",
        "    #Separa primeira Linha da Tabela\n",
        "    d = np.zeros(n)\n",
        "    d[0] = y[0]\n",
        "    for k in range(n):\n",
        "        d[k]=Dif_Div[0,k]\n",
        "\n",
        "    #Calculo de f(x_interpolante)\n",
        "    y_interpol=d[0]\n",
        "    for i in range(1,n):\n",
        "        #Componente (x-xi)\n",
        "        compx = 1\n",
        "        for j in range(i):\n",
        "            compx = compx*(x_interpol-x[j])\n",
        "            \n",
        "        y_interpol=y_interpol+d[i]*compx\n",
        "    return y_interpol"
      ],
      "metadata": {
        "id": "gX6Z4wKOgVe3"
      },
      "execution_count": 27,
      "outputs": []
    },
    {
      "cell_type": "code",
      "source": [
        "newton_interpol(x,y,8)"
      ],
      "metadata": {
        "id": "SRLfuLpwrtMa",
        "outputId": "0bce5c91-0a45-4574-b662-7dad73537101",
        "colab": {
          "base_uri": "https://localhost:8080/"
        }
      },
      "execution_count": 28,
      "outputs": [
        {
          "output_type": "stream",
          "name": "stdout",
          "text": [
            "Tabela de Diferenças divididas do método de Newton\n",
            "[[ 3.          1.5        -0.45454545  0.07739899 -0.01123319]\n",
            " [ 6.         -1.          0.31944444 -0.06301587  0.        ]\n",
            " [ 2.5         1.55555556 -0.34222222  0.          0.        ]\n",
            " [ 9.5        -0.84        0.          0.          0.        ]\n",
            " [ 7.4         0.          0.          0.          0.        ]]\n"
          ]
        },
        {
          "output_type": "execute_result",
          "data": {
            "text/plain": [
              "2.8684636363636367"
            ]
          },
          "metadata": {},
          "execution_count": 28
        }
      ]
    },
    {
      "cell_type": "code",
      "source": [
        ""
      ],
      "metadata": {
        "id": "j9sjKTjDsLUf"
      },
      "execution_count": 28,
      "outputs": []
    }
  ]
}
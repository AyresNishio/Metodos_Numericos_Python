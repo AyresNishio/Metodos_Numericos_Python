{
  "nbformat": 4,
  "nbformat_minor": 0,
  "metadata": {
    "colab": {
      "name": "Untitled0.ipynb",
      "provenance": [],
      "authorship_tag": "ABX9TyP6aOTuatnSExwG7fG3G69G",
      "include_colab_link": true
    },
    "kernelspec": {
      "name": "python3",
      "display_name": "Python 3"
    },
    "language_info": {
      "name": "python"
    }
  },
  "cells": [
    {
      "cell_type": "markdown",
      "metadata": {
        "id": "view-in-github",
        "colab_type": "text"
      },
      "source": [
        "<a href=\"https://colab.research.google.com/github/AyresNishio/Metodos_Numericos_Python/blob/master/Interpola%C3%A7%C3%A3o.ipynb\" target=\"_parent\"><img src=\"https://colab.research.google.com/assets/colab-badge.svg\" alt=\"Open In Colab\"/></a>"
      ]
    },
    {
      "cell_type": "code",
      "execution_count": 1,
      "metadata": {
        "id": "VMyUum83DXTc"
      },
      "outputs": [],
      "source": [
        "import numpy as np"
      ]
    },
    {
      "cell_type": "markdown",
      "source": [
        "## Interpolação\n",
        "\n",
        "\n",
        "*   Métodos objetivam completar indiretamente um conjunto de dados diponíveis.\n",
        "*   Procedimento fornece **estimativas** para valores **entre** os dados coletados.\n",
        "*   Pode ser utilizado para substituir função por uma mais simples **(polinômio interpolante)**.\n",
        "\n"
      ],
      "metadata": {
        "id": "nh9KIE-O8uin"
      }
    },
    {
      "cell_type": "code",
      "source": [
        "\n",
        "#Exemplo 6.1, 6.2, 6.3\n",
        "x = np.array([1.5, 3.5, 7. ,11.5, 14]) \n",
        "y = np.array([3,6,2.5,9.5,7.4])\n",
        "x_interpol = 10\n"
      ],
      "metadata": {
        "id": "MXLtAMNHEGYy"
      },
      "execution_count": 2,
      "outputs": []
    },
    {
      "cell_type": "markdown",
      "source": [
        "5 Pontos fornecidos ▶\n",
        "Um único polinômio de grau 4 passa pelos pontos (Limite Superior)"
      ],
      "metadata": {
        "id": "Iij8UxQkyzuJ"
      }
    },
    {
      "cell_type": "markdown",
      "source": [
        "#Método de Vandermonde"
      ],
      "metadata": {
        "id": "N2F0vNi5IDZ5"
      }
    },
    {
      "cell_type": "code",
      "source": [
        "def vandermonde(x,y):\n",
        "    n_pontos = len(x)\n",
        "    A=np.zeros((n_pontos,n_pontos),np.float64)\n",
        "    \n",
        "    for i in range(n_pontos):\n",
        "        for j in range(n_pontos):\n",
        "            A[i,j] = x[i]**j\n",
        "\n",
        "    #x=A\\y\n",
        "    coef = np.linalg.solve(A,y)\n",
        "    \n",
        "    return coef"
      ],
      "metadata": {
        "id": "4frCWIZgDcpL"
      },
      "execution_count": 3,
      "outputs": []
    },
    {
      "cell_type": "code",
      "source": [
        "#Exemplo 6.1, 6.2, 6.3\n",
        "alfa = vandermonde(x,y) \n",
        "print(alfa)   "
      ],
      "metadata": {
        "colab": {
          "base_uri": "https://localhost:8080/"
        },
        "id": "1dfMPQoDEhxA",
        "outputId": "27f45c59-7360-45fd-b88f-377686ae58a2"
      },
      "execution_count": 4,
      "outputs": [
        {
          "output_type": "stream",
          "name": "stdout",
          "text": [
            "[-9.22820303e+00  1.25004187e+01 -3.38564928e+00  3.41378932e-01\n",
            " -1.12331890e-02]\n"
          ]
        }
      ]
    },
    {
      "cell_type": "markdown",
      "source": [
        "#Método de Lagrange"
      ],
      "metadata": {
        "id": "ksQvdxuFIJLg"
      }
    },
    {
      "cell_type": "code",
      "source": [
        "def lagrange(x,y,x_interpol):\n",
        "    \n",
        "    n_pontos=len(x)\n",
        "    L = np.zeros(n_pontos) \n",
        "    for i in range(n_pontos):\n",
        "        L[i] = 1\n",
        "        for j in range(n_pontos):\n",
        "            if (j != i):\n",
        "                L[i]=L[i]*(x_interpol-x[j])/(x[i]-x[j])\n",
        "    \n",
        "    #valor interpolado\n",
        "    y_interpol=0\n",
        "    for i in range(n_pontos):\n",
        "        y_interpol=y_interpol+y[i]*L[i]\n",
        "    \n",
        "    \n",
        "\n",
        "    return y_interpol"
      ],
      "metadata": {
        "id": "PVI4dv0GEmn_"
      },
      "execution_count": 6,
      "outputs": []
    },
    {
      "cell_type": "code",
      "source": [
        "lagrange(x,y,8)"
      ],
      "metadata": {
        "colab": {
          "base_uri": "https://localhost:8080/"
        },
        "id": "UTrEBy_jrP0d",
        "outputId": "a4aa8a23-61d1-40b1-a6c8-8e07daa3ee70"
      },
      "execution_count": 7,
      "outputs": [
        {
          "output_type": "execute_result",
          "data": {
            "text/plain": [
              "2.8684636363636367"
            ]
          },
          "metadata": {},
          "execution_count": 7
        }
      ]
    },
    {
      "cell_type": "code",
      "source": [
        "lagrange(x,y,10)"
      ],
      "metadata": {
        "colab": {
          "base_uri": "https://localhost:8080/"
        },
        "id": "PbxcuYbJrmub",
        "outputId": "fcfe9a23-243b-4434-cca7-7f459a2ba564"
      },
      "execution_count": 8,
      "outputs": [
        {
          "output_type": "execute_result",
          "data": {
            "text/plain": [
              "6.258097835497834"
            ]
          },
          "metadata": {},
          "execution_count": 8
        }
      ]
    },
    {
      "cell_type": "markdown",
      "source": [
        "##Método de Newton (Interpolação)"
      ],
      "metadata": {
        "id": "cW09i6bYgl6Y"
      }
    },
    {
      "cell_type": "code",
      "source": [
        "def newton_interpol(x,y,x_interpol):\n",
        "    n = len(x)\n",
        "    Dif_Div =  np.zeros((n,n))\n",
        "\n",
        "    #Construção da Tabela de Diferenças Divididas\n",
        "    #Ordem  1 (Primeira Coluna)\n",
        "    for i in range(n):\n",
        "        Dif_Div[i,0]=y[i]\n",
        "    #Ordem >1\n",
        "    for j in range(1,n):\n",
        "        for i in range(n-j):\n",
        "            Dif_Div[i,j] = (Dif_Div[i+1,j-1]-Dif_Div[i,j-1])/(x[j+i]-x[i])\n",
        "\n",
        "    print('Tabela de Diferenças divididas do método de Newton')\n",
        "    print(Dif_Div)\n",
        "    \n",
        "    #Separa primeira Linha da Tabela\n",
        "    d = np.zeros(n)\n",
        "    d[0] = y[0]\n",
        "    for k in range(n):\n",
        "        d[k]=Dif_Div[0,k]\n",
        "\n",
        "    #Calculo de f(x_interpolante)\n",
        "    y_interpol=d[0]\n",
        "    for i in range(1,n):\n",
        "        #Componente (x-xi)\n",
        "        compx = 1\n",
        "        for j in range(i):\n",
        "            compx = compx*(x_interpol-x[j])\n",
        "            \n",
        "        y_interpol=y_interpol+d[i]*compx\n",
        "    return y_interpol"
      ],
      "metadata": {
        "id": "gX6Z4wKOgVe3"
      },
      "execution_count": 27,
      "outputs": []
    },
    {
      "cell_type": "code",
      "source": [
        "newton_interpol(x,y,8)"
      ],
      "metadata": {
        "colab": {
          "base_uri": "https://localhost:8080/"
        },
        "id": "SRLfuLpwrtMa",
        "outputId": "0bce5c91-0a45-4574-b662-7dad73537101"
      },
      "execution_count": 28,
      "outputs": [
        {
          "output_type": "stream",
          "name": "stdout",
          "text": [
            "Tabela de Diferenças divididas do método de Newton\n",
            "[[ 3.          1.5        -0.45454545  0.07739899 -0.01123319]\n",
            " [ 6.         -1.          0.31944444 -0.06301587  0.        ]\n",
            " [ 2.5         1.55555556 -0.34222222  0.          0.        ]\n",
            " [ 9.5        -0.84        0.          0.          0.        ]\n",
            " [ 7.4         0.          0.          0.          0.        ]]\n"
          ]
        },
        {
          "output_type": "execute_result",
          "data": {
            "text/plain": [
              "2.8684636363636367"
            ]
          },
          "metadata": {},
          "execution_count": 28
        }
      ]
    },
    {
      "cell_type": "code",
      "source": [
        "newton_interpol(x,y,10)"
      ],
      "metadata": {
        "colab": {
          "base_uri": "https://localhost:8080/"
        },
        "id": "j9sjKTjDsLUf",
        "outputId": "408f6f05-527b-467b-d86b-b171572d9ff2"
      },
      "execution_count": 29,
      "outputs": [
        {
          "output_type": "stream",
          "name": "stdout",
          "text": [
            "Tabela de Diferenças divididas do método de Newton\n",
            "[[ 3.          1.5        -0.45454545  0.07739899 -0.01123319]\n",
            " [ 6.         -1.          0.31944444 -0.06301587  0.        ]\n",
            " [ 2.5         1.55555556 -0.34222222  0.          0.        ]\n",
            " [ 9.5        -0.84        0.          0.          0.        ]\n",
            " [ 7.4         0.          0.          0.          0.        ]]\n"
          ]
        },
        {
          "output_type": "execute_result",
          "data": {
            "text/plain": [
              "6.258097835497836"
            ]
          },
          "metadata": {},
          "execution_count": 29
        }
      ]
    },
    {
      "cell_type": "markdown",
      "source": [
        "##Erro da Interpolação"
      ],
      "metadata": {
        "id": "xowLIrtk9onG"
      }
    },
    {
      "cell_type": "code",
      "source": [
        "#Função do exempoo do livro 6.4\n",
        "def func(x):\n",
        "    y = np.sin(x)\n",
        "    return y"
      ],
      "metadata": {
        "id": "VL9vL2GM8QSh"
      },
      "execution_count": 30,
      "outputs": []
    },
    {
      "cell_type": "code",
      "source": [
        "#Derivada da segunda ordem da Função\n",
        "def d2_func(x):\n",
        "    y=np.sin(x)\n",
        "    return y"
      ],
      "metadata": {
        "id": "73yUuGm_9y22"
      },
      "execution_count": 31,
      "outputs": []
    },
    {
      "cell_type": "code",
      "source": [
        "#Maior valor da segunda derivada no intervalo de x\n",
        "def M(x):\n",
        "    d = x[-1]-x[0]\n",
        "    passo = d/20\n",
        "    c=[]\n",
        "    for i in range(1,21): c.append(func(x[0] + i*passo)) \n",
        "    m = max(d2_func(x))\n",
        "    return m\n"
      ],
      "metadata": {
        "id": "yN0pEtR8_SsE"
      },
      "execution_count": 60,
      "outputs": []
    },
    {
      "cell_type": "code",
      "source": [
        "#Calculo de Fatorial\n",
        "def fat(n):\n",
        "    fat = 1\n",
        "    for i in range(1,n+1):\n",
        "        fat = fat*i\n",
        "    return fat"
      ],
      "metadata": {
        "id": "XvFNxkfbAYPB"
      },
      "execution_count": 61,
      "outputs": []
    },
    {
      "cell_type": "code",
      "source": [
        "def erro_interpol(x,x_interpol):\n",
        "    compx = 1\n",
        "    for i in x:\n",
        "      compx = compx*(x_interpol - i)\n",
        "    error = abs(compx*M(x))/fat(len(x))\n",
        "    return error \n"
      ],
      "metadata": {
        "id": "qGhmRxL_-L5V"
      },
      "execution_count": 62,
      "outputs": []
    },
    {
      "cell_type": "code",
      "source": [
        "x2 = [0, np.pi/2]"
      ],
      "metadata": {
        "id": "2kS5TekvBhra"
      },
      "execution_count": 56,
      "outputs": []
    },
    {
      "cell_type": "code",
      "source": [
        "erro_interpol(x2,np.pi/4)"
      ],
      "metadata": {
        "id": "eJXA8K_-A9jg",
        "outputId": "b84cc8ca-2538-4385-8e86-a43f61228c31",
        "colab": {
          "base_uri": "https://localhost:8080/"
        }
      },
      "execution_count": 59,
      "outputs": [
        {
          "output_type": "execute_result",
          "data": {
            "text/plain": [
              "0.30842513753404244"
            ]
          },
          "metadata": {},
          "execution_count": 59
        }
      ]
    },
    {
      "cell_type": "code",
      "source": [
        ""
      ],
      "metadata": {
        "id": "QKW8yoiyCT7O"
      },
      "execution_count": null,
      "outputs": []
    }
  ]
}
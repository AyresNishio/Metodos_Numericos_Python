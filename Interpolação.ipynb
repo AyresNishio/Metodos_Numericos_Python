{
  "nbformat": 4,
  "nbformat_minor": 0,
  "metadata": {
    "colab": {
      "name": "Untitled0.ipynb",
      "provenance": [],
      "authorship_tag": "ABX9TyOms+lnPowOfS3KGDlvKeTh",
      "include_colab_link": true
    },
    "kernelspec": {
      "name": "python3",
      "display_name": "Python 3"
    },
    "language_info": {
      "name": "python"
    }
  },
  "cells": [
    {
      "cell_type": "markdown",
      "metadata": {
        "id": "view-in-github",
        "colab_type": "text"
      },
      "source": [
        "<a href=\"https://colab.research.google.com/github/AyresNishio/Metodos_Numericos_Python/blob/master/Interpola%C3%A7%C3%A3o.ipynb\" target=\"_parent\"><img src=\"https://colab.research.google.com/assets/colab-badge.svg\" alt=\"Open In Colab\"/></a>"
      ]
    },
    {
      "cell_type": "code",
      "execution_count": 1,
      "metadata": {
        "id": "VMyUum83DXTc"
      },
      "outputs": [],
      "source": [
        "import numpy as np"
      ]
    },
    {
      "cell_type": "code",
      "source": [
        "\n",
        "#Exemplo 6.1, 6.2, 6.3\n",
        "x = np.array([1.5, 3.5, 7. ,11.5, 14]) \n",
        "y = np.array([3,6,2.5,9.5,7.4])\n",
        "x_interpol = 10\n"
      ],
      "metadata": {
        "id": "MXLtAMNHEGYy"
      },
      "execution_count": 9,
      "outputs": []
    },
    {
      "cell_type": "markdown",
      "source": [
        "#Método de Vandermonde"
      ],
      "metadata": {
        "id": "N2F0vNi5IDZ5"
      }
    },
    {
      "cell_type": "code",
      "source": [
        "def vandermonde(x,y):\n",
        "    n_pontos = len(x)\n",
        "    A=np.zeros((n_pontos,n_pontos),np.float64)\n",
        "    \n",
        "    for i in range(n_pontos):\n",
        "        for j in range(n_pontos):\n",
        "            A[i,j] = x[i]**j\n",
        "\n",
        "    #x=A\\y\n",
        "    coef = np.linalg.solve(A,y)\n",
        "    \n",
        "    return coef"
      ],
      "metadata": {
        "id": "4frCWIZgDcpL"
      },
      "execution_count": 8,
      "outputs": []
    },
    {
      "cell_type": "code",
      "source": [
        "#Exemplo 6.1, 6.2, 6.3\n",
        "alfa = vandermonde(x,y) \n",
        "print(alfa)   "
      ],
      "metadata": {
        "colab": {
          "base_uri": "https://localhost:8080/"
        },
        "id": "1dfMPQoDEhxA",
        "outputId": "28e7de1c-0403-43a4-f72c-6bdedd041435"
      },
      "execution_count": 11,
      "outputs": [
        {
          "output_type": "stream",
          "name": "stdout",
          "text": [
            "[-9.22820303e+00  1.25004187e+01 -3.38564928e+00  3.41378932e-01\n",
            " -1.12331890e-02]\n"
          ]
        }
      ]
    },
    {
      "cell_type": "markdown",
      "source": [
        "#Método de Lagrange"
      ],
      "metadata": {
        "id": "ksQvdxuFIJLg"
      }
    },
    {
      "cell_type": "code",
      "source": [
        "def lagrange(x,y,x_interpol):\n",
        "    \n",
        "    n_pontos=len(x)\n",
        "    L = np.zeros(n_pontos) \n",
        "    for i in range(n_pontos):\n",
        "        L[i] = 1\n",
        "        for j in range(n_pontos):\n",
        "            if (j != i):\n",
        "                L[i]=L[i]*(x_interpol-x[j])/(x[i]-x[j])\n",
        "    \n",
        "    #valor interpolado\n",
        "    y_interpol=0\n",
        "    for i in range(n_pontos):\n",
        "        y_interpol=y_interpol+y[i]*L[i]\n",
        "    \n",
        "    \n",
        "\n",
        "    return y_interpo"
      ],
      "metadata": {
        "id": "PVI4dv0GEmn_"
      },
      "execution_count": null,
      "outputs": []
    }
  ]
}
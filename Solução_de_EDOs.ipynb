{
  "nbformat": 4,
  "nbformat_minor": 0,
  "metadata": {
    "colab": {
      "name": "Solução de EDOs.ipynb",
      "provenance": [],
      "authorship_tag": "ABX9TyO0//2BOi5aHH0pCERzetTr",
      "include_colab_link": true
    },
    "kernelspec": {
      "name": "python3",
      "display_name": "Python 3"
    },
    "language_info": {
      "name": "python"
    }
  },
  "cells": [
    {
      "cell_type": "markdown",
      "metadata": {
        "id": "view-in-github",
        "colab_type": "text"
      },
      "source": [
        "<a href=\"https://colab.research.google.com/github/AyresNishio/Metodos_Numericos_Python/blob/master/Solu%C3%A7%C3%A3o_de_EDOs.ipynb\" target=\"_parent\"><img src=\"https://colab.research.google.com/assets/colab-badge.svg\" alt=\"Open In Colab\"/></a>"
      ]
    },
    {
      "cell_type": "code",
      "execution_count": null,
      "metadata": {
        "id": "gmJnUBBavaKB"
      },
      "outputs": [],
      "source": [
        "import numpy as np\n",
        "import matplotlib.pyplot as plt"
      ]
    },
    {
      "cell_type": "markdown",
      "source": [
        "##Método Euler"
      ],
      "metadata": {
        "id": "kGzR7tVMyQpb"
      }
    },
    {
      "cell_type": "code",
      "source": [
        "def func(x,y):\n",
        "    dy_dx = (1/2)*np.exp(x/3) - (1/2)*y #Exemplo 9.2\n",
        "    return dy_dx"
      ],
      "metadata": {
        "id": "LEkWi8QyvcRp"
      },
      "execution_count": null,
      "outputs": []
    },
    {
      "cell_type": "code",
      "source": [
        "#Pvi\n",
        "y0= 3\n",
        "x0= 0\n",
        "#intervalo\n",
        "I = [0,5]\n",
        "\n",
        "# Passo\n",
        "h = 1 \n",
        "# num_sub_int = 4\n",
        "# h = (I[1] - I[0])/num_sub_int"
      ],
      "metadata": {
        "id": "bYmbjBZn-R8n"
      },
      "execution_count": null,
      "outputs": []
    },
    {
      "cell_type": "code",
      "source": [
        "def euler(y0,x0,h,I):\n",
        "    n =  (I[1] - I[0])/h\n",
        "    x= []\n",
        "    y= []\n",
        "    x.append(x0)\n",
        "    y.append(y0)\n",
        "    print(f\"(x0,y0) = ({x0}, {y0})\")\n",
        "    for i in range(int(n)):\n",
        "        yk = y0+ h*func(x0,y0)\n",
        "        print(f\"(x{i+1},y{i+1}) = ({x0+h}, {yk})\")\n",
        "        y0 = yk\n",
        "        x0 = x0 + h\n",
        "        x.append(x0)\n",
        "        y.append(y0)\n",
        "    \n",
        "    return x,y"
      ],
      "metadata": {
        "id": "zyWwxNrfvo4J"
      },
      "execution_count": null,
      "outputs": []
    },
    {
      "cell_type": "code",
      "source": [
        "x,y = euler(y0,x0,h,I)"
      ],
      "metadata": {
        "colab": {
          "base_uri": "https://localhost:8080/"
        },
        "id": "d6KjlTeNv9_-",
        "outputId": "23e30b7b-98cd-4861-e60a-8f41a9868a5b"
      },
      "execution_count": null,
      "outputs": [
        {
          "output_type": "stream",
          "name": "stdout",
          "text": [
            "(x0,y0) = (0, 3)\n",
            "(x1,y1) = (1, 2.0)\n",
            "(x2,y2) = (2, 1.6978062125430449)\n",
            "(x3,y3) = (3, 1.8227701267988603)\n",
            "(x4,y4) = (4, 2.2705259776289526)\n",
            "(x5,y5) = (5, 3.032096936156065)\n"
          ]
        }
      ]
    },
    {
      "cell_type": "markdown",
      "source": [
        "## Euler modificado"
      ],
      "metadata": {
        "id": "sPq2Wsw6y51a"
      }
    },
    {
      "cell_type": "code",
      "source": [
        "def euler_modif(y0,x0,h,I):\n",
        "    n =  (I[1] - I[0])/h\n",
        "    x= []\n",
        "    y= []\n",
        "    x.append(x0)\n",
        "    y.append(y0)\n",
        "    print(f\"(x0,y0) = ({x0}, {y0})\")\n",
        "    for i in range(int(n)):\n",
        "        yk_til = y0 + func(x0,y0)*h\n",
        "        f_xy = func(x0,y0)\n",
        "        x0 = x0 + h\n",
        "        f_til_xy = func(x0,yk_til)\n",
        "        k = (f_xy + f_til_xy)/2\n",
        "        yk = y0+ k*h\n",
        "        print(f\"(x{i+1},y{i+1}) = ({x0}, {yk})\")\n",
        "        y0 = yk\n",
        "        x.append(x0)\n",
        "        y.append(y0)\n",
        "\n",
        "    return x,y"
      ],
      "metadata": {
        "id": "AFKBwN7Oy4e1"
      },
      "execution_count": null,
      "outputs": []
    },
    {
      "cell_type": "code",
      "source": [
        "xm,ym = euler_modif(y0,x0,h,I)"
      ],
      "metadata": {
        "colab": {
          "base_uri": "https://localhost:8080/"
        },
        "id": "24s5BBfG-wRK",
        "outputId": "a16dc313-83f7-49d6-af7d-165e137161fd"
      },
      "execution_count": null,
      "outputs": [
        {
          "output_type": "stream",
          "name": "stdout",
          "text": [
            "(x0,y0) = (0, 3)\n",
            "(x1,y1) = (1, 2.348903106271522)\n",
            "(x2,y2) = (2, 2.1294495048191315)\n",
            "(x3,y3) = (3, 2.253943152758553)\n",
            "(x4,y4) = (4, 2.6969166727022706)\n",
            "(x5,y5) = (5, 3.4834039198918236)\n"
          ]
        }
      ]
    },
    {
      "cell_type": "markdown",
      "source": [
        "##Runge Kutta\n"
      ],
      "metadata": {
        "id": "nKGlqM5TAFkc"
      }
    },
    {
      "cell_type": "code",
      "source": [
        "def rk4(y0,x0,h,I):\n",
        "    n =  (I[1] - I[0])/h\n",
        "    x= []\n",
        "    y= []\n",
        "    x.append(x0)\n",
        "    y.append(y0)\n",
        "    print(f\"(x0,y0) = ({x0}, {y0})\")\n",
        "    for i in range(int(n)):\n",
        "        k1= func(x0,y0)\n",
        "        k2= func(x0 + (1/2)*h, y0 + (1/2)*k1*h)\n",
        "        k3= func(x0 + (1/2)*h, y0 + (1/2)*k2*h)\n",
        "        k4= func(x0 + h, y0 + k3*h)\n",
        "        kmedia = (k1 + 2*k2 + 2*k3 + k4)/6\n",
        "        yk = y0 + kmedia*h\n",
        "        y0 = yk\n",
        "        x0 = x0 + h\n",
        "        print(f\"(x{i+1},y{i+1}) = ({x0}, {yk})\")\n",
        "        x.append(x0)\n",
        "        y.append(y0)\n",
        "\n",
        "    return x,y"
      ],
      "metadata": {
        "id": "p7Q1DQ18AVGx"
      },
      "execution_count": null,
      "outputs": []
    },
    {
      "cell_type": "code",
      "source": [
        "xr,yr = rk4(y0,x0,h,I)"
      ],
      "metadata": {
        "colab": {
          "base_uri": "https://localhost:8080/"
        },
        "id": "GpcJmnMwBI8o",
        "outputId": "a8049221-8a5a-40b4-abf9-4d9fb51ce7a9"
      },
      "execution_count": null,
      "outputs": [
        {
          "output_type": "stream",
          "name": "stdout",
          "text": [
            "(x0,y0) = (0, 3)\n",
            "(x1,y1) = (1, 2.293738642940936)\n",
            "(x2,y2) = (2, 2.0524931152750945)\n",
            "(x3,y3) = (3, 2.1675011724976767)\n",
            "(x4,y4) = (4, 2.6020821741611937)\n",
            "(x5,y5) = (5, 3.3748891281963176)\n"
          ]
        }
      ]
    },
    {
      "cell_type": "markdown",
      "source": [
        "#Comparação de Resultados"
      ],
      "metadata": {
        "id": "_F5rmwbQwdHh"
      }
    },
    {
      "cell_type": "code",
      "source": [
        "def func_analitica(x):\n",
        "    dy_dx = 3/5*np.e**(x/3) + 2.4*np.e**(-x/2) \n",
        "    return dy_dx "
      ],
      "metadata": {
        "id": "S99_qnFJwcRg"
      },
      "execution_count": null,
      "outputs": []
    },
    {
      "cell_type": "code",
      "source": [
        "_, ax = plt.subplots()\n",
        "ax.set(xlabel ='X', ylabel ='Y',\n",
        "    xlim =(0,5.5), ylim =(0, 5),\n",
        "    title ='Comparação dos Métodos')\n",
        "ax.grid()\n",
        "ya = func_analitica(np.array(x))\n",
        "plt.plot(x, ya, marker = 'x', label = 'Analítico')\n",
        "plt.plot(x, y , marker = '*', label = 'Euler')\n",
        "plt.plot(x, ym , marker = '*', label = 'Euler Mod')\n",
        "plt.plot(x, yr , marker = '*', label = 'Runge Kutta')\n",
        "plt.legend()\n",
        "plt.show()  "
      ],
      "metadata": {
        "colab": {
          "base_uri": "https://localhost:8080/",
          "height": 295
        },
        "id": "B7TClc2Lv7xd",
        "outputId": "e722dcdb-74f5-4db1-e434-21b162b71ed3"
      },
      "execution_count": null,
      "outputs": [
        {
          "output_type": "display_data",
          "data": {
            "text/plain": [
              "<Figure size 432x288 with 1 Axes>"
            ],
            "image/png": "[encoded data removed]"
          },
          "metadata": {
            "needs_background": "light"
          }
        }
      ]
    },
    {
      "cell_type": "code",
      "source": [
        ""
      ],
      "metadata": {
        "id": "IpoYPzNqwnP1"
      },
      "execution_count": null,
      "outputs": []
    }
  ]
}
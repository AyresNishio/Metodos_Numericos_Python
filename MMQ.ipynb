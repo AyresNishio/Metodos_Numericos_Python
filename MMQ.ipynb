{
  "nbformat": 4,
  "nbformat_minor": 0,
  "metadata": {
    "colab": {
      "name": "MMQ.ipynb",
      "provenance": [],
      "collapsed_sections": [],
      "authorship_tag": "ABX9TyNJFTQF2zW7vOYUcO0l3uCV",
      "include_colab_link": true
    },
    "kernelspec": {
      "name": "python3",
      "display_name": "Python 3"
    },
    "language_info": {
      "name": "python"
    }
  },
  "cells": [
    {
      "cell_type": "markdown",
      "metadata": {
        "id": "view-in-github",
        "colab_type": "text"
      },
      "source": [
        "<a href=\"https://colab.research.google.com/github/AyresNishio/Metodos_Numericos_Python/blob/master/MMQ.ipynb\" target=\"_parent\"><img src=\"https://colab.research.google.com/assets/colab-badge.svg\" alt=\"Open In Colab\"/></a>"
      ]
    },
    {
      "cell_type": "code",
      "execution_count": 10,
      "metadata": {
        "id": "cvA3PpdY4Yqc"
      },
      "outputs": [],
      "source": [
        "import numpy as np\n",
        "import matplotlib.pyplot as plt"
      ]
    },
    {
      "cell_type": "code",
      "source": [
        "# //programa de ajuste polinomial pelo Método dos Mínimos Quadrados Ponderados\n",
        "# Exemplo 7.2)\n",
        "x = np.array([0.0, 0.5, 1.0, 1.5, 2.0, 2.5, 3.0, 3.5, 4.0, 4.5, 5.0, 5.5, 6.0, 6.5, 7.0, 7.5, 8.0]);\n",
        "y = np.array([3.0, 2.6, 4.9, 5.3, 7.0, 7.5, 7.8, 7.6, 9.5, 9.0, 9.5,10.5,10.0, 8.5, 8.3, 9.2, 8.7]);"
      ],
      "metadata": {
        "id": "VNk8F3145cw7"
      },
      "execution_count": 11,
      "outputs": []
    },
    {
      "cell_type": "code",
      "source": [
        "# Grau do polinômio a ser ajustado aos dados\n",
        "grau= 2;"
      ],
      "metadata": {
        "id": "O4YICO8m56oV"
      },
      "execution_count": 16,
      "outputs": []
    },
    {
      "cell_type": "markdown",
      "source": [
        "## Mínimos Quadrados Linear"
      ],
      "metadata": {
        "id": "T0iJH85BaNve"
      }
    },
    {
      "cell_type": "code",
      "source": [
        "def MMQ_linear(x,y,grau):\n",
        "\n",
        "    #Número Total de Pontos da Amostra\n",
        "    n_pontos=len(x);\n",
        "    print('Número de pontos:')\n",
        "    print(n_pontos)\n",
        "\n",
        "    # Soma dos valores de x e de suas potências\n",
        "    x_soma=np.zeros(2*grau, dtype = np.float64)\n",
        "    for i in range(2*grau):\n",
        "        x_soma[i]=sum(l**(i+1) for l in x)  \n",
        "\n",
        "    # //Formação da matriz A e do vetor b do sistema linear Ax=b, cuja solução\n",
        "    # // corresponde aos coeficientes do polinômio a ser ajustado\n",
        "    # //Primeira linha da matriz A e do vetor b\n",
        "    A=np.zeros((grau+1,grau+1), dtype = np.float64)\n",
        "    b=np.zeros(grau+1, dtype = np.float64)\n",
        "    A[0,0]=n_pontos\n",
        "    b[0]=sum(y)\n",
        "    for k in range(1,grau+1):\n",
        "        A[0,k] = x_soma[k-1]\n",
        "\n",
        "        # //Demais linhas de A\n",
        "    for i in range(1,grau+1):\n",
        "        for j in range(grau+1):\n",
        "            A[i,j]=x_soma[i+j-1]\n",
        "\n",
        "    # //Formação do vetor b\n",
        "    for i in range(1,grau+1):\n",
        "        for j in range(n_pontos):\n",
        "            b[i] += y[j]*(x[j]**i) \n",
        "\n",
        "    # //Determinação dos coeficientes do polinômio\n",
        "    # alfa=A\\b\n",
        "    alfa = np.linalg.inv(A)@np.transpose(b)\n",
        "    \n",
        "    # POlinônio Interpolante\n",
        "    y_ajuste = np.zeros(n_pontos,dtype=np.float64)\n",
        "    for i in range(n_pontos):\n",
        "        for j in range(grau+1):\n",
        "            y_ajuste[i] = y_ajuste[i] + alfa[j]*x[i]**j\n",
        "\n",
        "    print(\"Matriz A\")        \n",
        "    print(A) \n",
        "\n",
        "    print(\"Matriz b\")        \n",
        "    print(b) \n",
        "\n",
        "    print(\"Parametros da Função de Ajuste\")        \n",
        "    print(alfa) \n",
        "\n",
        "    return(y_ajuste)"
      ],
      "metadata": {
        "id": "CmpMFh1p59x1"
      },
      "execution_count": 17,
      "outputs": []
    },
    {
      "cell_type": "code",
      "source": [
        "y_ajuste=MMQ_linear(x,y,grau)"
      ],
      "metadata": {
        "colab": {
          "base_uri": "https://localhost:8080/"
        },
        "id": "9u-fksOw65bE",
        "outputId": "f010cc55-4f89-4c8f-ed12-8e82dcd9b221"
      },
      "execution_count": 18,
      "outputs": [
        {
          "output_type": "stream",
          "name": "stdout",
          "text": [
            "Número de pontos:\n",
            "17\n",
            "Matriz A\n",
            "[[   17.     68.    374. ]\n",
            " [   68.    374.   2312. ]\n",
            " [  374.   2312.  15240.5]]\n",
            "Matriz b\n",
            "[ 128.9   592.6  3345.15]\n",
            "Parametros da Função de Ajuste\n",
            "[ 2.36150671  2.51589267 -0.22012384]\n"
          ]
        }
      ]
    },
    {
      "cell_type": "code",
      "source": [
        "    #Gráfico \n",
        "    #Pontos de entrada\n",
        "    plt.scatter(x, y, marker = 'o',label = 'Pontos da amostra', color = 'red')\n",
        "    plt.plot(x, y_ajuste, label = 'Ajuste')\n",
        "\n",
        "    \n",
        "    # Nome dos Eixos\n",
        "    plt.xlabel('Eixo - x')\n",
        "    plt.ylabel('Eixo - y')\n",
        "    \n",
        "    # Título do Gráfico\n",
        "    plt.title('Ajuste Polinomial Mínimos Quadrados')\n",
        "    \n",
        "    # Cria janela com Gráfico\n",
        "    plt.legend()\n",
        "    plt.show()"
      ],
      "metadata": {
        "id": "0upkGmVV7JjG",
        "colab": {
          "base_uri": "https://localhost:8080/",
          "height": 295
        },
        "outputId": "b0ba65c9-498d-43a1-b658-4078721b79e4"
      },
      "execution_count": 19,
      "outputs": [
        {
          "output_type": "display_data",
          "data": {
            "text/plain": [
              "<Figure size 432x288 with 1 Axes>"
            ],
            "image/png": "[encoded data removed]"
          },
          "metadata": {
            "needs_background": "light"
          }
        }
      ]
    },
    {
      "cell_type": "markdown",
      "source": [
        "##Mínimos Quadrados Não Linear"
      ],
      "metadata": {
        "id": "D_hCn4POaZyG"
      }
    },
    {
      "cell_type": "code",
      "source": [
        "# //definição das funções que compõem o ajuste\n",
        "def func1(x):\n",
        "    y=np.log(x)\n",
        "    return y\n",
        "\n",
        "def func2(x):\n",
        "    y=np.cos(x)\n",
        "    return y\n",
        "\n",
        "def func3(x):\n",
        "    y=np.e**x\n",
        "    return y\n",
        "\n",
        "#Vetor de Funções\n",
        "funcs = [func1, func2, func3]"
      ],
      "metadata": {
        "id": "b066GnP8adx2"
      },
      "execution_count": 24,
      "outputs": []
    },
    {
      "cell_type": "code",
      "source": [
        "#Exemplo 7.3\n",
        "x = np.array([0.25,0.65,0.95,1.25,1.75,2.00,2.25,2.55,2.75,3.05]);\n",
        "y = np.array([0.20,-.25,-1.1,-.45,0.25,0.10,-.30,0.25,0.55,1.05]);"
      ],
      "metadata": {
        "id": "V94P9SGFanl3"
      },
      "execution_count": 21,
      "outputs": []
    },
    {
      "cell_type": "code",
      "source": [
        "def MMQ_n_linear(x,y,funcs):\n",
        "  #Número total de pontos da amostra\n",
        "    n_pontos=len(x)\n",
        "\n",
        "    # Número de funções que compõem o ajuste\n",
        "    n_funcoes=len(funcs);\n",
        "\n",
        "    #Construção da Matriz A\n",
        "    A=np.zeros([n_funcoes,n_funcoes],np.float64)\n",
        "\n",
        "    #-Matriz contendo o resultado de cada função em cada ponto\n",
        "    x_funcs = np.zeros([n_funcoes,n_pontos],np.float64)\n",
        "    for f in range(n_funcoes):\n",
        "        for i in range(n_pontos):\n",
        "            x_funcs[f,i] = funcs[f](x[i])\n",
        "    #-Constroi A com os resultados das funções\n",
        "    for i in range(n_funcoes):\n",
        "        for j in range(n_funcoes):\n",
        "            soma = 0.0\n",
        "            for k in range(n_pontos):\n",
        "                soma = soma + x_funcs[i,k]*x_funcs[j,k]\n",
        "            A[i,j] = soma\n",
        "          \n",
        "\n",
        "    #Construção do Vetor b\n",
        "    b=np.zeros(n_funcoes,dtype = np.float64)\n",
        "    for i in range(n_funcoes):\n",
        "        for j in range(n_pontos):\n",
        "            b[i] += y[j]*x_funcs[i,j]\n",
        "\n",
        "    #Coeficientes da função de ajuste    \n",
        "    alfa = np.linalg.inv(A)@np.transpose(b)\n",
        "\n",
        "    ajuste = np.zeros(n_pontos,dtype=np.float64)\n",
        "    for i in range(n_pontos):\n",
        "        for j in range(n_funcoes):\n",
        "            ajuste[i] = ajuste[i] +  alfa[j]*funcs[j](x[i])\n",
        "\n",
        "     \n",
        "    print(\"Matriz A\")        \n",
        "    print(A) \n",
        "\n",
        "    print(\"Matriz b\")        \n",
        "    print(b) \n",
        "\n",
        "    print(\"Parametros da Função de Ajuste\")        \n",
        "    print(alfa) \n",
        "\n",
        "    return ajuste"
      ],
      "metadata": {
        "id": "eAVHKkBacI0g"
      },
      "execution_count": 22,
      "outputs": []
    },
    {
      "cell_type": "code",
      "source": [
        "y_ajuste=MMQ_n_linear(x,y,funcs)"
      ],
      "metadata": {
        "colab": {
          "base_uri": "https://localhost:8080/"
        },
        "id": "cHkkjKW1c-oN",
        "outputId": "e35e60b9-06ba-483f-8763-1054629b11c0"
      },
      "execution_count": 25,
      "outputs": [
        {
          "output_type": "stream",
          "name": "stdout",
          "text": [
            "Matriz A\n",
            "[[   6.75418863   -5.36571671   65.43630433]\n",
            " [  -5.36571671    5.14483403  -50.80286636]\n",
            " [  65.43630433  -50.80286636 1056.48874928]]\n",
            "Matriz b\n",
            "[ 1.71368699 -2.44618747 28.67055557]\n",
            "Parametros da Função de Ajuste\n",
            "[-1.06855265 -1.27271832  0.03212051]\n"
          ]
        }
      ]
    },
    {
      "cell_type": "code",
      "source": [
        "#Gráfico \n",
        "#Pontos de entrada\n",
        "plt.scatter(x, y, marker = 'o',label = 'pontos da amostra', color = 'red')\n",
        "plt.plot(x, y_ajuste, label = 'Ajuste')\n",
        "\n",
        "\n",
        "# Nome dos Eixos\n",
        "plt.xlabel('Eixo - x')\n",
        "plt.ylabel('Eixo - y')\n",
        "# Título do Gráfico\n",
        "plt.title('Ajuste Não Polinomial')\n",
        "\n",
        "# Cria janela com Gráfico\n",
        "plt.legend()\n",
        "plt.show()"
      ],
      "metadata": {
        "colab": {
          "base_uri": "https://localhost:8080/",
          "height": 295
        },
        "id": "aRuNtWZac9Dn",
        "outputId": "84ac950d-e02d-42d8-d617-9c8b87e63d18"
      },
      "execution_count": 28,
      "outputs": [
        {
          "output_type": "display_data",
          "data": {
            "text/plain": [
              "<Figure size 432x288 with 1 Axes>"
            ],
            "image/png": "[encoded data removed]"
          },
          "metadata": {
            "needs_background": "light"
          }
        }
      ]
    },
    {
      "cell_type": "code",
      "source": [
        ""
      ],
      "metadata": {
        "id": "zs7KGyiIdNfN"
      },
      "execution_count": null,
      "outputs": []
    }
  ]
}
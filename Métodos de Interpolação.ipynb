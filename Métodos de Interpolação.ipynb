{
  "nbformat": 4,
  "nbformat_minor": 0,
  "metadata": {
    "colab": {
      "name": "Untitled0.ipynb",
      "provenance": [],
      "collapsed_sections": [],
      "authorship_tag": "ABX9TyPBhSkn5uvgB6L9E8zAmnby",
      "include_colab_link": true
    },
    "kernelspec": {
      "name": "python3",
      "display_name": "Python 3"
    },
    "language_info": {
      "name": "python"
    }
  },
  "cells": [
    {
      "cell_type": "markdown",
      "metadata": {
        "id": "view-in-github",
        "colab_type": "text"
      },
      "source": [
        "<a href=\"https://colab.research.google.com/github/AyresNishio/Metodos_Numericos_Python/blob/master/M%C3%A9todos%20de%20Interpola%C3%A7%C3%A3o.ipynb\" target=\"_parent\"><img src=\"https://colab.research.google.com/assets/colab-badge.svg\" alt=\"Open In Colab\"/></a>"
      ]
    },
    {
      "cell_type": "code",
      "execution_count": 1,
      "metadata": {
        "id": "VMyUum83DXTc"
      },
      "outputs": [],
      "source": [
        "import numpy as np"
      ]
    },
    {
      "cell_type": "code",
      "source": [
        "\n",
        "#Exemplo 6.1, 6.2, 6.3\n",
        "x = np.array([1.5, 3.5, 7. ,11.5, 14]) \n",
        "y = np.array([3,6,2.5,9.5,7.4])\n",
        "\n",
        "\n"
      ],
      "metadata": {
        "id": "MXLtAMNHEGYy"
      },
      "execution_count": 9,
      "outputs": []
    },
    {
      "cell_type": "markdown",
      "source": [
        "#Método de Vandermonde"
      ],
      "metadata": {
        "id": "N2F0vNi5IDZ5"
      }
    },
    {
      "cell_type": "code",
      "source": [
        "def vandermonde(x,y):\n",
        "    n_pontos = len(x)\n",
        "    A=np.zeros((n_pontos,n_pontos),np.float64)\n",
        "    \n",
        "    for i in range(n_pontos):\n",
        "        for j in range(n_pontos):\n",
        "            A[i,j] = x[i]**j\n",
        "\n",
        "    #x=A\\y\n",
        "    coef = np.linalg.solve(A,y)\n",
        "    \n",
        "    return coef"
      ],
      "metadata": {
        "id": "4frCWIZgDcpL"
      },
      "execution_count": 8,
      "outputs": []
    },
    {
      "cell_type": "code",
      "source": [
        "#Exemplo 6.1, 6.2, 6.3\n",
        "alfa = vandermonde(x,y) \n",
        "print(alfa)   "
      ],
      "metadata": {
        "colab": {
          "base_uri": "https://localhost:8080/"
        },
        "id": "1dfMPQoDEhxA",
        "outputId": "28e7de1c-0403-43a4-f72c-6bdedd041435"
      },
      "execution_count": 11,
      "outputs": [
        {
          "output_type": "stream",
          "name": "stdout",
          "text": [
            "[-9.22820303e+00  1.25004187e+01 -3.38564928e+00  3.41378932e-01\n",
            " -1.12331890e-02]\n"
          ]
        }
      ]
    },
    {
      "cell_type": "markdown",
      "source": [
        "#Método de Lagrange"
      ],
      "metadata": {
        "id": "ksQvdxuFIJLg"
      }
    },
    {
      "cell_type": "code",
      "source": [
        "x_interpolante = 10"
      ],
      "metadata": {
        "id": "Cep684wiKiz2"
      },
      "execution_count": 12,
      "outputs": []
    },
    {
      "cell_type": "code",
      "source": [
        "def lagrange(x,y,x_interpolante):\n",
        "    \n",
        "    n_pontos=len(x)\n",
        "    L = np.zeros(n_pontos) \n",
        "    for i in range(n_pontos):\n",
        "        L[i] = 1\n",
        "        for j in range(n_pontos):\n",
        "            if (j != i):\n",
        "                L[i] = L[i]*(x_interpolante-x[j])/(x[i]-x[j])\n",
        "    \n",
        "    #valor interpolado\n",
        "    y_interpolante=0\n",
        "    for i in range(n_pontos):\n",
        "        y_interpolante = y_interpolante + y[i]*L[i]\n",
        "    \n",
        "    return y_interpolante"
      ],
      "metadata": {
        "id": "PVI4dv0GEmn_"
      },
      "execution_count": 13,
      "outputs": []
    },
    {
      "cell_type": "code",
      "source": [
        "lagrange(x,y,x_interpolante)"
      ],
      "metadata": {
        "colab": {
          "base_uri": "https://localhost:8080/"
        },
        "id": "V-ULH5zrK9vN",
        "outputId": "7669d344-be03-4840-e14a-0bdb1ca8638f"
      },
      "execution_count": 14,
      "outputs": [
        {
          "output_type": "execute_result",
          "data": {
            "text/plain": [
              "6.258097835497834"
            ]
          },
          "metadata": {},
          "execution_count": 14
        }
      ]
    },
    {
      "cell_type": "markdown",
      "source": [
        "#Método de Newton para Interpolação"
      ],
      "metadata": {
        "id": "zBNEgR52Ldqk"
      }
    },
    {
      "cell_type": "code",
      "source": [
        "def newton_interpol(x,y,x_interpolante):\n",
        "    #construção da tabela de diferenças divididas\n",
        "    n_pontos = len(x)\n",
        "    Tab_Dif_Div =  np.zeros((n_pontos,n_pontos))\n",
        "\n",
        "    for i in range(n_pontos):\n",
        "        Tab_Dif_Div[i,0]=y[i]\n",
        "\n",
        "    for j in range(1,n_pontos):\n",
        "        cont = 0\n",
        "        for i in range(n_pontos-j):\n",
        "            Tab_Dif_Div[i,j] = (Tab_Dif_Div[i+1,j-1]-Tab_Dif_Div[i,j-1])/(x[j+i]-x[i])\n",
        "            cont = cont + 1\n",
        "\n",
        "    print('Tabela de Diferenças divididas do método de Newton')\n",
        "    print(Tab_Dif_Div)\n",
        "\n",
        "    #Armazenamento das diferenças divididas\n",
        "    d = np.zeros(n_pontos)\n",
        "    d[0] = y[0]\n",
        "    for k in range(n_pontos):\n",
        "        d[k]=Tab_Dif_Div[0,k]\n",
        "\n",
        "    y_interpolante=d[0]\n",
        "    for i in range(1,n_pontos):\n",
        "        #Componentes (x-xi)\n",
        "        delta_x =1\n",
        "        for j in range(i):\n",
        "            delta_x = delta_x*(x_interpolante-x[j])\n",
        "        y_interpolante=y_interpolante+d[i]*delta_x\n",
        "    return y_interpolante"
      ],
      "metadata": {
        "id": "f7ZKmBJPLDc-"
      },
      "execution_count": 19,
      "outputs": []
    },
    {
      "cell_type": "code",
      "source": [
        "newton_interpol(x,y,x_interpolante)"
      ],
      "metadata": {
        "colab": {
          "base_uri": "https://localhost:8080/"
        },
        "id": "F2WXakhgL4yP",
        "outputId": "39aba0cc-e55b-42f8-e25a-4ae0efb3905f"
      },
      "execution_count": 20,
      "outputs": [
        {
          "output_type": "stream",
          "name": "stdout",
          "text": [
            "Tabela de Diferenças divididas do método de Newton\n",
            "[[ 3.          1.5        -0.45454545  0.07739899 -0.01123319]\n",
            " [ 6.         -1.          0.31944444 -0.06301587  0.        ]\n",
            " [ 2.5         1.55555556 -0.34222222  0.          0.        ]\n",
            " [ 9.5        -0.84        0.          0.          0.        ]\n",
            " [ 7.4         0.          0.          0.          0.        ]]\n"
          ]
        },
        {
          "output_type": "execute_result",
          "data": {
            "text/plain": [
              "6.258097835497836"
            ]
          },
          "metadata": {},
          "execution_count": 20
        }
      ]
    },
    {
      "cell_type": "code",
      "source": [
        ""
      ],
      "metadata": {
        "id": "-d2JtcWtL-3F"
      },
      "execution_count": null,
      "outputs": []
    }
  ]
}